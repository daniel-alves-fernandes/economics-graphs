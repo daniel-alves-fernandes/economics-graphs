{
 "cells": [
  {
   "cell_type": "code",
   "execution_count": 12,
   "metadata": {},
   "outputs": [],
   "source": [
    "import numpy as np\n",
    "import matplotlib.pyplot as plt\n",
    "from ipywidgets import interactive, FloatSlider, Button, VBox, Layout\n",
    "from IPython.display import display"
   ]
  },
  {
   "cell_type": "code",
   "execution_count": null,
   "metadata": {},
   "outputs": [],
   "source": [
    "import numpy as np\n",
    "import matplotlib.pyplot as plt\n",
    "from ipywidgets import interactive, FloatSlider, Button, VBox, Layout\n",
    "from IPython.display import display\n",
    "\n",
    "# Fixed Parameters\n",
    "i_fixed = 100  # Fixed Investment for AD Fixed\n",
    "\n",
    "# Function to compute Aggregate Demand (AD)\n",
    "def compute_AD(Y, c0, MPC):\n",
    "    return c0 + MPC * Y\n",
    "\n",
    "# Function to find equilibrium output where Y = AD\n",
    "def find_equilibrium(i, c0, MPC):\n",
    "    if (1 - MPC) <= 0:\n",
    "        return np.inf  # Avoid division by zero or negative\n",
    "    return (i + c0) / (1 - MPC)\n",
    "\n",
    "# Plotting Function\n",
    "def plot_AD(i_variable, MPC):\n",
    "    # Fixed axes limits\n",
    "    Y_min, Y_max = 0, 600\n",
    "    AD_min, AD_max = 0, 600\n",
    "    Y = np.linspace(Y_min, Y_max, 500)\n",
    "\n",
    "    # Recalculate c0_fixed based on MPC to ensure AD Fixed passes through (250, 250)\n",
    "    c0_fixed_current = 250 * (1 - MPC)\n",
    "\n",
    "    # Compute AD_fixed\n",
    "    AD_fixed = compute_AD(Y, c0_fixed_current, MPC)\n",
    "\n",
    "    # Compute AD_variable: AD_variable = AD_fixed + (i_variable - i_fixed)\n",
    "    delta_i = i_variable - i_fixed\n",
    "    AD_variable = AD_fixed + delta_i\n",
    "\n",
    "    # Compute Equilibrium Points\n",
    "    Y_fixed_eq = 250  # Always at (250,250)\n",
    "    Y_variable_eq = 250 + (delta_i) / (1 - MPC) if (1 - MPC) != 0 else np.inf\n",
    "\n",
    "    # Initialize Plot\n",
    "    fig, ax = plt.subplots(figsize=(10, 8))\n",
    "\n",
    "    # Plot Equilibrium Line Y = AD (45-degree line)\n",
    "    ax.plot(Y, Y, label='Equilibrium Line (Y = AD)', color='black', linestyle='--')\n",
    "\n",
    "    # Plot AD Fixed Curve\n",
    "    ax.plot(Y, AD_fixed, label=f'AD Fixed (i = {i_fixed})', color='blue', linewidth=2)\n",
    "\n",
    "    # Plot AD Variable Curve\n",
    "    ax.plot(Y, AD_variable, label=f'AD Variable (i = {i_variable})', color='red', linewidth=2)\n",
    "\n",
    "    # Plot Equilibrium for AD Fixed\n",
    "    ax.plot(Y_fixed_eq, Y_fixed_eq, 'bo')  # Blue circle without label\n",
    "    # Add label \"250\" above the Fixed Equilibrium Point\n",
    "    ax.annotate('250',\n",
    "                xy=(Y_fixed_eq, Y_fixed_eq),\n",
    "                xytext=(0, 10),  # 10 points above the point\n",
    "                textcoords='offset points',\n",
    "                ha='center',\n",
    "                va='bottom',\n",
    "                fontsize=10,\n",
    "                color='blue')\n",
    "\n",
    "    # Plot Equilibrium for AD Variable if within Y range\n",
    "    if Y_min <= Y_variable_eq <= Y_max:\n",
    "        ax.plot(Y_variable_eq, Y_variable_eq, 'ro')  # Red circle without label\n",
    "        # Add label for Variable Equilibrium Point directly above the point\n",
    "        ax.annotate(f'{Y_variable_eq:.0f}',\n",
    "                    xy=(Y_variable_eq, Y_variable_eq),\n",
    "                    xytext=(0, 10),  # 10 points above the point\n",
    "                    textcoords='offset points',\n",
    "                    ha='center',\n",
    "                    va='bottom',\n",
    "                    fontsize=10,\n",
    "                    color='red')\n",
    "\n",
    "    # Labels and Title\n",
    "    ax.set_xlabel('Output (Y)', fontsize=14)\n",
    "    ax.set_ylabel('Aggregate Demand (AD)', fontsize=14)\n",
    "    ax.set_title('Aggregate Demand and Equilibrium Output', fontsize=16)\n",
    "    ax.grid(True)\n",
    "\n",
    "    # Set Fixed Axes Limits\n",
    "    ax.set_xlim(Y_min, Y_max)\n",
    "    ax.set_ylim(AD_min, AD_max)\n",
    "\n",
    "    # Legend\n",
    "    # Only include meaningful labels in the legend\n",
    "    handles, labels = ax.get_legend_handles_labels()\n",
    "    # Remove empty labels (equilibrium points have no labels)\n",
    "    handles = [h for h, l in zip(handles, labels) if l]\n",
    "    labels = [l for l in labels if l]\n",
    "    ax.legend(handles, labels, loc='upper left')\n",
    "\n",
    "    plt.show()\n",
    "\n",
    "# Default Slider Values\n",
    "i_default = 100\n",
    "MPC_default = 0.6\n",
    "\n",
    "# Create Sliders for Investment (i_variable) and MPC\n",
    "i_slider = FloatSlider(\n",
    "    value=i_default,\n",
    "    min=0,\n",
    "    max=200,\n",
    "    step=1,\n",
    "    description='Investment (i):',\n",
    "    style={'description_width': 'initial'},\n",
    "    layout=Layout(width='400px')\n",
    ")\n",
    "\n",
    "MPC_slider = FloatSlider(\n",
    "    value=MPC_default,\n",
    "    min=0,\n",
    "    max=1,\n",
    "    step=0.01,\n",
    "    description='MPC:',\n",
    "    style={'description_width': 'initial'},\n",
    "    layout=Layout(width='400px')\n",
    ")\n",
    "\n",
    "# Function to Reset Sliders to Default Values\n",
    "def reset_sliders(button):\n",
    "    i_slider.value = i_default\n",
    "    MPC_slider.value = MPC_default\n",
    "\n",
    "# Create a Reset Button\n",
    "reset_button = Button(\n",
    "    description='Reset',\n",
    "    button_style='info',\n",
    "    tooltip='Reset sliders to default values',\n",
    "    layout=Layout(width='100px')\n",
    ")\n",
    "reset_button.on_click(reset_sliders)\n",
    "\n",
    "# Arrange Sliders and Button in a Vertical Box\n",
    "controls = VBox([i_slider, MPC_slider, reset_button])\n",
    "\n",
    "# Create the Interactive Plot\n",
    "interactive_plot = interactive(\n",
    "    plot_AD,\n",
    "    i_variable=i_slider,\n",
    "    MPC=MPC_slider\n",
    ")"
   ]
  },
  {
   "cell_type": "code",
   "execution_count": 26,
   "metadata": {},
   "outputs": [
    {
     "data": {
      "application/vnd.jupyter.widget-view+json": {
       "model_id": "f3d2794707804c74acc4dbb2221e2b12",
       "version_major": 2,
       "version_minor": 0
      },
      "text/plain": [
       "Button(button_style='info', description='Reset', layout=Layout(width='100px'), style=ButtonStyle(), tooltip='R…"
      ]
     },
     "execution_count": 26,
     "metadata": {},
     "output_type": "execute_result"
    }
   ],
   "source": [
    "reset_button"
   ]
  },
  {
   "cell_type": "code",
   "execution_count": 27,
   "metadata": {},
   "outputs": [
    {
     "data": {
      "application/vnd.jupyter.widget-view+json": {
       "model_id": "c79f28f258d14d9083257efa66b5861d",
       "version_major": 2,
       "version_minor": 0
      },
      "text/plain": [
       "interactive(children=(FloatSlider(value=100.0, description='Investment (i):', layout=Layout(width='400px'), ma…"
      ]
     },
     "execution_count": 27,
     "metadata": {},
     "output_type": "execute_result"
    }
   ],
   "source": [
    "interactive_plot"
   ]
  }
 ],
 "metadata": {
  "kernelspec": {
   "display_name": "Python 3",
   "language": "python",
   "name": "python3"
  },
  "language_info": {
   "codemirror_mode": {
    "name": "ipython",
    "version": 3
   },
   "file_extension": ".py",
   "mimetype": "text/x-python",
   "name": "python",
   "nbconvert_exporter": "python",
   "pygments_lexer": "ipython3",
   "version": "3.12.1"
  }
 },
 "nbformat": 4,
 "nbformat_minor": 2
}
