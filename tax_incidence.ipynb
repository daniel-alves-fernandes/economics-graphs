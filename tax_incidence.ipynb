{
 "cells": [
  {
   "cell_type": "code",
   "execution_count": 1,
   "metadata": {},
   "outputs": [],
   "source": [
    "import numpy as np\n",
    "import matplotlib.pyplot as plt\n",
    "from ipywidgets import interactive, FloatSlider, VBox, Button, Layout\n",
    "from IPython.display import display"
   ]
  },
  {
   "cell_type": "code",
   "execution_count": 2,
   "metadata": {},
   "outputs": [],
   "source": [
    "# Fixed equilibrium before tax at (10, 10)\n",
    "Q_e = 10\n",
    "P_e = 10\n",
    "tax_rate = 0.3  # Fixed tax rate at 30%\n",
    "\n",
    "# Function to compute slopes based on elasticities\n",
    "def compute_slopes(E_d_abs, E_s, P_e, Q_e):\n",
    "    b = (P_e / Q_e) / E_d_abs  # Demand slope (positive)\n",
    "    d = (P_e / Q_e) / E_s      # Supply slope (positive)\n",
    "    return b, d\n",
    "\n",
    "# Function to compute intercepts based on slopes and fixed equilibrium\n",
    "def compute_intercepts(P_e, Q_e, b, d):\n",
    "    a = P_e + b * Q_e  # Demand intercept\n",
    "    c = P_e - d * Q_e  # Supply intercept\n",
    "    return a, c\n",
    "\n",
    "# Function to find equilibrium with tax\n",
    "def find_equilibrium_tax(a, c, b, d, tax_rate):\n",
    "    numerator = a - c * (1 + tax_rate)\n",
    "    denominator = b + d * (1 + tax_rate)\n",
    "    Q_e_tax = numerator / denominator\n",
    "    P_e_tax = a - b * Q_e_tax  # Price consumers pay\n",
    "    P_s_tax = P_e_tax / (1 + tax_rate)  # Price producers receive\n",
    "    return Q_e_tax, P_e_tax, P_s_tax\n",
    "\n",
    "# Function to plot the supply and demand curves with tax and surplus areas\n",
    "def plot_supply_demand(E_d_abs=1, E_s=1):\n",
    "    # Compute slopes based on elasticities\n",
    "    b, d = compute_slopes(E_d_abs, E_s, P_e, Q_e)\n",
    "\n",
    "    # Compute intercepts based on slopes and fixed equilibrium\n",
    "    a, c = compute_intercepts(P_e, Q_e, b, d)\n",
    "\n",
    "    # Define fixed quantity range from 0 to 20\n",
    "    Q = np.linspace(0, 20, 1000)\n",
    "\n",
    "    # Demand and Supply curves\n",
    "    Pd = a - b * Q\n",
    "    Ps = c + d * Q\n",
    "    # Supply curve with tax (for plotting purposes)\n",
    "    Ps_tax = Ps * (1 + tax_rate)\n",
    "\n",
    "    # Find equilibrium with tax\n",
    "    Qe_tax, Pe_tax, Ps_tax_eq = find_equilibrium_tax(a, c, b, d, tax_rate)\n",
    "\n",
    "    # Prepare the plot\n",
    "    fig, ax = plt.subplots(figsize=(8, 8))\n",
    "\n",
    "    # Set aspect ratio to 1:1\n",
    "    ax.set_aspect('equal', adjustable='box')\n",
    "\n",
    "    # Plot Demand and Supply curves\n",
    "    ax.plot(Q, Pd, label='Demand', color='blue')\n",
    "    ax.plot(Q, Ps, label='Supply', color='green')\n",
    "    ax.plot(Q, Ps_tax, label='Supply with Tax', color='red')\n",
    "\n",
    "    # Mark equilibrium points\n",
    "    if 0 <= Q_e <= 20 and 0 <= P_e <= 20:\n",
    "        ax.plot(Q_e, P_e, 'ko', label='Equilibrium without Tax')\n",
    "        # Add dashed horizontal line from x=0 to x=Q_e at P=Pe\n",
    "        ax.plot([0, Q_e], [P_e, P_e], color='black', linestyle='--', linewidth=1)\n",
    "    else:\n",
    "        print(\"Equilibrium without tax is outside the plotting range.\")\n",
    "\n",
    "    if 0 <= Qe_tax <= 20 and 0 <= Pe_tax <= 20:\n",
    "        ax.plot(Qe_tax, Pe_tax, 'ro', label='Equilibrium with Tax')\n",
    "    else:\n",
    "        print(\"Equilibrium with tax is outside the plotting range.\")\n",
    "\n",
    "    # Fill Consumer Surplus\n",
    "    if 0 <= Qe_tax <= 20 and 0 <= Pe_tax <= 20:\n",
    "        Q_cs = Q[Q <= Qe_tax]\n",
    "        Pd_cs = Pd[Q <= Qe_tax]\n",
    "        ax.fill_between(Q_cs, Pe_tax, Pd_cs, color='blue', alpha=0.3, label='Consumer Surplus')\n",
    "\n",
    "    # Fill Producer Surplus\n",
    "    if 0 <= Qe_tax <= 20 and 0 <= Ps_tax_eq <= 20:\n",
    "        Q_ps = Q[Q <= Qe_tax]\n",
    "        Ps_ps = Ps[Q <= Qe_tax]\n",
    "        ax.fill_between(Q_ps, Ps_ps, Ps_tax_eq, color='green', alpha=0.3, label='Producer Surplus')\n",
    "\n",
    "    # Fill Government Revenue\n",
    "    if 0 <= Qe_tax <= 20 and 0 <= Pe_tax <= 20 and 0 <= Ps_tax_eq <= 20:\n",
    "        ax.fill_between([0, Qe_tax], Ps_tax_eq, Pe_tax, color='red', alpha=0.3, label='Government Revenue')\n",
    "\n",
    "    # Fill Deadweight Loss\n",
    "    if 0 <= Q_e <= 20 and 0 <= Qe_tax <= 20 and Qe_tax < Q_e:\n",
    "        Q_dwl = Q[(Q >= Qe_tax) & (Q <= Q_e)]\n",
    "        Pd_dwl = Pd[(Q >= Qe_tax) & (Q <= Q_e)]\n",
    "        Ps_dwl = Ps[(Q >= Qe_tax) & (Q <= Q_e)]\n",
    "        ax.fill_between(Q_dwl, Ps_dwl, Pd_dwl, color='grey', alpha=0.5, label='Deadweight Loss')\n",
    "\n",
    "    # Labels and titles\n",
    "    ax.set_xlabel('Quantity')\n",
    "    ax.set_ylabel('Price')\n",
    "    ax.set_title('Supply and Demand with Tax (Tax Rate Fixed at 30%)')\n",
    "    ax.grid(True)\n",
    "    ax.set_xlim(0, 20)\n",
    "    ax.set_ylim(0, 20)\n",
    "\n",
    "    # Set x and y ticks from 0 to 20 with intervals of 2\n",
    "    ax.set_xticks(np.arange(0, 21, 2))\n",
    "    ax.set_yticks(np.arange(0, 21, 2))\n",
    "\n",
    "    # Move legend outside the plot area\n",
    "    ax.legend(bbox_to_anchor=(1.05, 1), loc='upper left', borderaxespad=0.)\n",
    "\n",
    "    # Adjust layout to make room for the legend and maintain aspect ratio\n",
    "    plt.subplots_adjust(right=0.75)\n",
    "    plt.show()\n",
    "\n",
    "# Create interactive sliders for elasticities with adjusted layouts\n",
    "Ed_default = 2  # Default value for Elasticity of Demand (absolute value)\n",
    "Es_default = 2   # Default value for Elasticity of Supply\n",
    "\n",
    "Ed_slider = FloatSlider(\n",
    "    min=0.1, max=5, step=0.1, value=Ed_default,\n",
    "    description='Elasticity of Demand',\n",
    "    style={'description_width': 'initial'},\n",
    "    layout=Layout(width='400px')\n",
    ")\n",
    "Es_slider = FloatSlider(\n",
    "    min=0.1, max=5, step=0.1, value=Es_default,\n",
    "    description='Elasticity of Supply',\n",
    "    style={'description_width': 'initial'},\n",
    "    layout=Layout(width='400px')\n",
    ")\n",
    "\n",
    "# Function to reset sliders to default values\n",
    "def reset_sliders(button):\n",
    "    Ed_slider.value = Ed_default\n",
    "    Es_slider.value = Es_default\n",
    "\n",
    "# Create a Refresh button\n",
    "reset_button = Button(description='Refresh', button_style='info', tooltip='Reset sliders to default values')\n",
    "\n",
    "# Assign the reset function to the button's on_click event\n",
    "reset_button.on_click(reset_sliders)\n",
    "\n",
    "# Layout of sliders and button\n",
    "controls = VBox([Ed_slider, Es_slider, reset_button])\n",
    "\n",
    "# Interactive plot\n",
    "interactive_plot = interactive(\n",
    "    plot_supply_demand,\n",
    "    E_d_abs=Ed_slider,\n",
    "    E_s=Es_slider\n",
    ")"
   ]
  },
  {
   "cell_type": "code",
   "execution_count": 3,
   "metadata": {},
   "outputs": [
    {
     "data": {
      "application/vnd.jupyter.widget-view+json": {
       "model_id": "19f5cf6ef78646f1bf45ada52bc7be9f",
       "version_major": 2,
       "version_minor": 0
      },
      "text/plain": [
       "Button(button_style='info', description='Refresh', style=ButtonStyle(), tooltip='Reset sliders to default valu…"
      ]
     },
     "execution_count": 3,
     "metadata": {},
     "output_type": "execute_result"
    }
   ],
   "source": [
    "reset_button"
   ]
  },
  {
   "cell_type": "code",
   "execution_count": 4,
   "metadata": {},
   "outputs": [
    {
     "data": {
      "application/vnd.jupyter.widget-view+json": {
       "model_id": "e173ddbfdef24e22ad0f44e422d8aa2f",
       "version_major": 2,
       "version_minor": 0
      },
      "text/plain": [
       "interactive(children=(FloatSlider(value=2.0, description='Elasticity of Demand', layout=Layout(width='400px'),…"
      ]
     },
     "execution_count": 4,
     "metadata": {},
     "output_type": "execute_result"
    }
   ],
   "source": [
    "interactive_plot"
   ]
  }
 ],
 "metadata": {
  "kernelspec": {
   "display_name": "Python 3",
   "language": "python",
   "name": "python3"
  },
  "language_info": {
   "codemirror_mode": {
    "name": "ipython",
    "version": 3
   },
   "file_extension": ".py",
   "mimetype": "text/x-python",
   "name": "python",
   "nbconvert_exporter": "python",
   "pygments_lexer": "ipython3",
   "version": "3.12.1"
  }
 },
 "nbformat": 4,
 "nbformat_minor": 2
}
